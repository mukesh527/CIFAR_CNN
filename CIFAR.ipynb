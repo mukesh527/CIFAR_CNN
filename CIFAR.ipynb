{
  "nbformat": 4,
  "nbformat_minor": 0,
  "metadata": {
    "accelerator": "GPU",
    "colab": {
      "name": "CIFAR.ipynb",
      "provenance": [],
      "collapsed_sections": [],
      "authorship_tag": "ABX9TyMVUoP21PVjSQ3pwYAd0bGv",
      "include_colab_link": true
    },
    "kernelspec": {
      "display_name": "Python 3",
      "name": "python3"
    },
    "language_info": {
      "name": "python"
    }
  },
  "cells": [
    {
      "cell_type": "markdown",
      "metadata": {
        "id": "view-in-github",
        "colab_type": "text"
      },
      "source": [
        "<a href=\"https://colab.research.google.com/github/mukesh527/CIFAR_CNN/blob/main/CIFAR.ipynb\" target=\"_parent\"><img src=\"https://colab.research.google.com/assets/colab-badge.svg\" alt=\"Open In Colab\"/></a>"
      ]
    },
    {
      "cell_type": "code",
      "metadata": {
        "id": "Q1Hdf5CDK_N8"
      },
      "source": [
        "import sys\n",
        "from matplotlib import pyplot as plt\n",
        "from keras.datasets import cifar10\n",
        "from tensorflow.keras.utils import to_categorical\n",
        "from keras.models import Sequential\n",
        "from keras.layers import Conv2D, Flatten, Dropout, MaxPool2D,Dense,BatchNormalization\n",
        "from keras.optimizers import SGD,Adam"
      ],
      "execution_count": 17,
      "outputs": []
    },
    {
      "cell_type": "code",
      "metadata": {
        "colab": {
          "base_uri": "https://localhost:8080/"
        },
        "id": "Ry2_5xVDL98g",
        "outputId": "58c69b23-2a73-47f1-c00f-75f67cc68b06"
      },
      "source": [
        "import keras\n",
        "print (keras.__version__)"
      ],
      "execution_count": 3,
      "outputs": [
        {
          "output_type": "stream",
          "text": [
            "2.5.0\n"
          ],
          "name": "stdout"
        }
      ]
    },
    {
      "cell_type": "code",
      "metadata": {
        "id": "52iE4f2lFzAi"
      },
      "source": [
        "#Load dataset\n",
        "def load_dataset():\n",
        "  (train_X,train_y),(test_X,test_y)=cifar10.load_data()\n",
        "  #onehot encoding\n",
        "  train_y=to_categorical(train_y)\n",
        "  test_y=to_categorical(test_y)\n",
        "  return train_X,train_y,test_X,test_y\n",
        "  "
      ],
      "execution_count": 4,
      "outputs": []
    },
    {
      "cell_type": "code",
      "metadata": {
        "colab": {
          "base_uri": "https://localhost:8080/",
          "height": 283
        },
        "id": "xWB4yQKsHacR",
        "outputId": "c8583bb0-5725-4444-c769-6f413db1ec93"
      },
      "source": [
        "trainX,trainy,testX,testy=load_dataset()\n",
        "plt.imshow(trainX[100])\n",
        "print(trainy[100])"
      ],
      "execution_count": 30,
      "outputs": [
        {
          "output_type": "stream",
          "text": [
            "[0. 0. 0. 0. 0. 0. 0. 0. 1. 0.]\n"
          ],
          "name": "stdout"
        },
        {
          "output_type": "display_data",
          "data": {
            "image/png": "[encoded data removed]",
            "text/plain": [
              "<Figure size 432x288 with 1 Axes>"
            ]
          },
          "metadata": {
            "tags": [],
            "needs_background": "light"
          }
        }
      ]
    },
    {
      "cell_type": "code",
      "metadata": {
        "id": "O70hComHGC5T"
      },
      "source": [
        "#scale prepixel\n",
        "def prepixel(train,test):\n",
        "  train_norm=train.astype('float32')\n",
        "  test_norm=test.astype('float32')\n",
        "  train_norm=train_norm/255.0\n",
        "  test_norm=test_norm/255.0\n",
        "  return train_norm,test_norm\n"
      ],
      "execution_count": 6,
      "outputs": []
    },
    {
      "cell_type": "markdown",
      "metadata": {
        "id": "8nFKuLVOKTZU"
      },
      "source": [
        "#Architecture 1 :single Convolution layer"
      ]
    },
    {
      "cell_type": "code",
      "metadata": {
        "id": "pAVjA6_0Io7A"
      },
      "source": [
        "#Model\n",
        "def define_model():\n",
        "  model=Sequential()\n",
        "  model.add(Conv2D(32,(3,3),activation='relu',padding='same',kernel_initializer='he_uniform',input_shape=(32,32,3)))\n",
        "  model.add(MaxPool2D(2,2))\n",
        "  # model.add(Conv2D(64,(3,3),activation='relu',padding='same',kernel_initializer='he_uniform'))\n",
        "  # model.add(MaxPool2D(2,2))\n",
        "  # model.add(Conv2D(128,(3,3),activation='relu',padding='same',kernel_initializer='he_uniform'))\n",
        "\n",
        "  model.add(Flatten())\n",
        "  model.add(Dense(128,activation='relu',kernel_initializer='he_uniform'))\n",
        "  model.add(Dense(10,activation='softmax'))\n",
        "  opt=SGD(learning_rate=0.001,momentum=0.0)\n",
        "  model.compile(optimizer=opt,loss='categorical_crossentropy',metrics=['accuracy'])\n",
        "  return model\n"
      ],
      "execution_count": 7,
      "outputs": []
    },
    {
      "cell_type": "markdown",
      "metadata": {
        "id": "gHYHKs0rKYtZ"
      },
      "source": [
        "#Architecture 2 : Double convolution layer\n"
      ]
    },
    {
      "cell_type": "code",
      "metadata": {
        "id": "wrq6NowLKciq"
      },
      "source": [
        "def define_model1():\n",
        "  model=Sequential()\n",
        "  model.add(Conv2D(32,(3,3),activation='relu',padding='same',kernel_initializer='he_uniform',input_shape=(32,32,3)))\n",
        "  model.add(MaxPool2D(2,2))\n",
        "  model.add(Conv2D(64,(3,3),activation='relu',padding='same',kernel_initializer='he_uniform'))\n",
        "  model.add(MaxPool2D(2,2))\n",
        "  # model.add(Conv2D(128,(3,3),activation='relu',padding='same',kernel_initializer='he_uniform'))\n",
        "\n",
        "  model.add(Flatten())\n",
        "  model.add(Dense(128,activation='relu',kernel_initializer='he_uniform'))\n",
        "  model.add(Dense(10,activation='softmax'))\n",
        "  opt=SGD(learning_rate=0.001,momentum=0.0)\n",
        "  model.compile(optimizer=opt,loss='categorical_crossentropy',metrics=['accuracy'])\n",
        "  return model\n"
      ],
      "execution_count": 8,
      "outputs": []
    },
    {
      "cell_type": "markdown",
      "metadata": {
        "id": "oGBCqWduKl7M"
      },
      "source": [
        "#Architecture 3 : Triple convolution layer"
      ]
    },
    {
      "cell_type": "code",
      "metadata": {
        "id": "C9tVcwRCKlf5"
      },
      "source": [
        "def define_model2():\n",
        "  model=Sequential()\n",
        "  model.add(Conv2D(32,(3,3),activation='relu',padding='same',kernel_initializer='he_uniform',input_shape=(32,32,3)))\n",
        "  model.add(MaxPool2D(2,2))\n",
        "  model.add(Conv2D(64,(3,3),activation='relu',padding='same',kernel_initializer='he_uniform'))\n",
        "  model.add(MaxPool2D(2,2))\n",
        "  model.add(Conv2D(128,(3,3),activation='relu',padding='same',kernel_initializer='he_uniform'))\n",
        "  model.add(MaxPool2D(2,2))\n",
        "  model.add(Flatten())\n",
        "  model.add(Dense(128,activation='relu',kernel_initializer='he_uniform'))\n",
        "  model.add(Dense(10,activation='softmax'))\n",
        "  opt=SGD(learning_rate=0.001,momentum=0.0)\n",
        "  model.compile(optimizer=opt,loss='categorical_crossentropy',metrics=['accuracy'])\n",
        "  return model\n"
      ],
      "execution_count": 9,
      "outputs": []
    },
    {
      "cell_type": "markdown",
      "metadata": {
        "id": "U_GpSXXXPm-B"
      },
      "source": [
        "#Architecture 4: Convolution layer With Dropouts"
      ]
    },
    {
      "cell_type": "code",
      "metadata": {
        "id": "jwqDSuBOPkkL"
      },
      "source": [
        "def define_model3():\n",
        "  model=Sequential()\n",
        "  model.add(Conv2D(32,(3,3),activation='relu',padding='same',kernel_initializer='he_uniform',input_shape=(32,32,3)))\n",
        "  model.add(MaxPool2D(2,2))\n",
        "  model.add(Dropout(0.2))\n",
        "  model.add(Conv2D(64,(3,3),activation='relu',padding='same',kernel_initializer='he_uniform'))\n",
        "  model.add(MaxPool2D(2,2))\n",
        "  model.add(Dropout(0.2))\n",
        "  model.add(Conv2D(128,(3,3),activation='relu',padding='same',kernel_initializer='he_uniform'))\n",
        "  model.add(MaxPool2D(2,2))\n",
        "  model.add(Dropout(0.2))\n",
        "  model.add(Flatten())\n",
        "  model.add(Dense(128,activation='relu',kernel_initializer='he_uniform'))\n",
        "  model.add(Dropout(0.2))\n",
        "  model.add(Dense(10,activation='softmax'))\n",
        "\n",
        "  opt=SGD(learning_rate=0.001,momentum=0.9)\n",
        "  model.compile(optimizer=opt,loss='categorical_crossentropy',metrics=['accuracy'])\n",
        "  return model"
      ],
      "execution_count": 10,
      "outputs": []
    },
    {
      "cell_type": "markdown",
      "metadata": {
        "id": "h9v7BMlSt78O"
      },
      "source": [
        "#Architecture 5: Convolution layer With Dropouts & Batch Normalization"
      ]
    },
    {
      "cell_type": "code",
      "metadata": {
        "id": "fRbXDcCDtpvi"
      },
      "source": [
        "def define_model4():\n",
        "  model=Sequential()\n",
        "  model.add(Conv2D(32,(3,3),activation='relu',padding='same',kernel_initializer='he_uniform',input_shape=(32,32,3)))\n",
        "  model.add(MaxPool2D(2,2))\n",
        "  model.add(BatchNormalization())\n",
        "  model.add(Dropout(0.2))\n",
        "  model.add(Conv2D(64,(3,3),activation='relu',padding='same',kernel_initializer='he_uniform'))\n",
        "  model.add(MaxPool2D(2,2))\n",
        "  model.add(Dropout(0.2))\n",
        "  model.add(BatchNormalization())\n",
        "  model.add(Conv2D(128,(3,3),activation='relu',padding='same',kernel_initializer='he_uniform'))\n",
        "  model.add(MaxPool2D(2,2))\n",
        "  model.add(Dropout(0.2))\n",
        "  model.add(BatchNormalization())\n",
        "  model.add(Flatten())\n",
        "  model.add(Dense(128,activation='relu',kernel_initializer='he_uniform'))\n",
        "  model.add(Dropout(0.2))\n",
        "  model.add(BatchNormalization())\n",
        "  model.add(Dense(10,activation='softmax'))\n",
        "\n",
        "  opt=SGD(learning_rate=0.001,momentum=0.9)\n",
        "  model.compile(optimizer=opt,loss='categorical_crossentropy',metrics=['accuracy'])\n",
        "  model.save('/content/gdrive/MyDrive/CNN/LULC-Classification/final_model.h5')\n",
        "  return model"
      ],
      "execution_count": 23,
      "outputs": []
    },
    {
      "cell_type": "code",
      "metadata": {
        "id": "o30fS41iIrSY"
      },
      "source": [
        "def summarize_diagnostics(history):\n",
        "\t# plot loss\n",
        "\tplt.subplot(211)\n",
        "\tplt.title('Cross Entropy Loss')\n",
        "\tplt.plot(history.history['loss'], color='blue', label='train')\n",
        "\tplt.plot(history.history['val_loss'], color='orange', label='test')\n",
        "\t# plot accuracy\n",
        "\tplt.subplot(212)\n",
        "\tplt.title('Classification Accuracy')\n",
        "\tplt.plot(history.history['accuracy'], color='blue', label='train')\n",
        "\tplt.plot(history.history['val_accuracy'], color='orange', label='test')\n",
        "\t# save plot to file\n",
        "\tfilename = sys.argv[0].split('/')[-1]\n",
        "\tplt.savefig(filename + '_plot.png')\n",
        "\tplt.close()"
      ],
      "execution_count": 15,
      "outputs": []
    },
    {
      "cell_type": "code",
      "metadata": {
        "id": "BzdIXFhjJiJD"
      },
      "source": [
        "def run_test_harness(func):\n",
        "  #load dataset\n",
        "  trainX,trainY,testX,testY=load_dataset()\n",
        "  trainX,testX=prepixel(trainX,testX)\n",
        "  model=func\n",
        "  history=model.fit(trainX,trainY,epochs=100,batch_size=64,validation_data=(testX,testY),verbose=0)\n",
        "  _,acc=model.evaluate(testX,testY,verbose=0)\n",
        "  print('> %.3f' % (acc * 100.0))\n",
        "  # learning curves\n",
        "  summarize_diagnostics(history)\n",
        "  return acc*100"
      ],
      "execution_count": 13,
      "outputs": []
    },
    {
      "cell_type": "markdown",
      "metadata": {
        "id": "EowGekqts-05"
      },
      "source": [
        "#Final model & Accuracy scores"
      ]
    },
    {
      "cell_type": "code",
      "metadata": {
        "colab": {
          "base_uri": "https://localhost:8080/",
          "height": 291
        },
        "id": "CS8yLiiLPCdd",
        "outputId": "bbbe5bf1-b2c9-4459-d3af-d8eb87a04de0"
      },
      "source": [
        "import pandas as pd\n",
        "res=pd.DataFrame({'models':['model1','model2','model3','model4','model5'],'accuracy':[run_test_harness(define_model()),run_test_harness(define_model1()),run_test_harness(define_model2()),run_test_harness(define_model3()),run_test_harness(define_model4())]})\n",
        "res"
      ],
      "execution_count": 24,
      "outputs": [
        {
          "output_type": "stream",
          "text": [
            "> 61.680\n",
            "> 64.820\n",
            "> 66.240\n",
            "> 78.590\n",
            "> 79.730\n"
          ],
          "name": "stdout"
        },
        {
          "output_type": "execute_result",
          "data": {
            "text/html": [
              "<div>\n",
              "<style scoped>\n",
              "    .dataframe tbody tr th:only-of-type {\n",
              "        vertical-align: middle;\n",
              "    }\n",
              "\n",
              "    .dataframe tbody tr th {\n",
              "        vertical-align: top;\n",
              "    }\n",
              "\n",
              "    .dataframe thead th {\n",
              "        text-align: right;\n",
              "    }\n",
              "</style>\n",
              "<table border=\"1\" class=\"dataframe\">\n",
              "  <thead>\n",
              "    <tr style=\"text-align: right;\">\n",
              "      <th></th>\n",
              "      <th>models</th>\n",
              "      <th>accuracy</th>\n",
              "    </tr>\n",
              "  </thead>\n",
              "  <tbody>\n",
              "    <tr>\n",
              "      <th>0</th>\n",
              "      <td>model1</td>\n",
              "      <td>61.680001</td>\n",
              "    </tr>\n",
              "    <tr>\n",
              "      <th>1</th>\n",
              "      <td>model2</td>\n",
              "      <td>64.819998</td>\n",
              "    </tr>\n",
              "    <tr>\n",
              "      <th>2</th>\n",
              "      <td>model3</td>\n",
              "      <td>66.240001</td>\n",
              "    </tr>\n",
              "    <tr>\n",
              "      <th>3</th>\n",
              "      <td>model4</td>\n",
              "      <td>78.590000</td>\n",
              "    </tr>\n",
              "    <tr>\n",
              "      <th>4</th>\n",
              "      <td>model5</td>\n",
              "      <td>79.729998</td>\n",
              "    </tr>\n",
              "  </tbody>\n",
              "</table>\n",
              "</div>"
            ],
            "text/plain": [
              "   models   accuracy\n",
              "0  model1  61.680001\n",
              "1  model2  64.819998\n",
              "2  model3  66.240001\n",
              "3  model4  78.590000\n",
              "4  model5  79.729998"
            ]
          },
          "metadata": {
            "tags": []
          },
          "execution_count": 24
        }
      ]
    },
    {
      "cell_type": "code",
      "metadata": {
        "colab": {
          "base_uri": "https://localhost:8080/"
        },
        "id": "YC2NX51CFJVo",
        "outputId": "dc6b3ebc-bb51-4dbb-d2d7-651065a98030"
      },
      "source": [
        "from google.colab import drive\n",
        "drive.mount('/content/gdrive')"
      ],
      "execution_count": 19,
      "outputs": [
        {
          "output_type": "stream",
          "text": [
            "Mounted at /content/gdrive\n"
          ],
          "name": "stdout"
        }
      ]
    },
    {
      "cell_type": "markdown",
      "metadata": {
        "id": "I4HbTl6sQoZv"
      },
      "source": [
        "#Sample image prediction using the Final trained model"
      ]
    },
    {
      "cell_type": "code",
      "metadata": {
        "id": "iq9kDpR8D_YJ",
        "colab": {
          "base_uri": "https://localhost:8080/"
        },
        "outputId": "cd947a7e-882c-4f02-b5c2-6a7049d18830"
      },
      "source": [
        "from keras.preprocessing.image import load_img\n",
        "from keras.preprocessing.image import img_to_array\n",
        "from keras.models import load_model\n",
        "def load_image(filename):\n",
        "  img=load_img(filename,target_size=(32,32))\n",
        "  img=img_to_array(img)\n",
        "  img = img.reshape(1, 32, 32, 3)\n",
        "  img=img.astype('float32')\n",
        "  img=img/255.0\n",
        "  return img\n",
        "img=load_image('/content/gdrive/MyDrive/CNN/LULC-Classification/sample_image.png')\n",
        "model=load_model('/content/gdrive/MyDrive/CNN/LULC-Classification/final_model.h5')\n",
        "result=model.predict_classes(img)\n",
        "result"
      ],
      "execution_count": 26,
      "outputs": [
        {
          "output_type": "stream",
          "text": [
            "/usr/local/lib/python3.7/dist-packages/keras/engine/sequential.py:450: UserWarning: `model.predict_classes()` is deprecated and will be removed after 2021-01-01. Please use instead:* `np.argmax(model.predict(x), axis=-1)`,   if your model does multi-class classification   (e.g. if it uses a `softmax` last-layer activation).* `(model.predict(x) > 0.5).astype(\"int32\")`,   if your model does binary classification   (e.g. if it uses a `sigmoid` last-layer activation).\n",
            "  warnings.warn('`model.predict_classes()` is deprecated and '\n"
          ],
          "name": "stderr"
        },
        {
          "output_type": "execute_result",
          "data": {
            "text/plain": [
              "array([5])"
            ]
          },
          "metadata": {
            "tags": []
          },
          "execution_count": 26
        }
      ]
    },
    {
      "cell_type": "code",
      "metadata": {
        "id": "3TbCeOttIBR3"
      },
      "source": [
        ""
      ],
      "execution_count": null,
      "outputs": []
    }
  ]
}